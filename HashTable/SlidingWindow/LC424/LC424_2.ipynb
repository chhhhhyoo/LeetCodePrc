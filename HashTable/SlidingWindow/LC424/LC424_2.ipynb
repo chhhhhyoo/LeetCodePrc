{
 "cells": [
  {
   "cell_type": "code",
   "execution_count": 2,
   "metadata": {},
   "outputs": [
    {
     "name": "stdout",
     "output_type": "stream",
     "text": [
      "4\n",
      "4\n",
      "3\n"
     ]
    }
   ],
   "source": [
    "def characterReplacement(s, k):\n",
    "    if len(s) <= k:\n",
    "        return len(s)\n",
    "\n",
    "    window_start = 0\n",
    "    max_length = 0\n",
    "    max_count = 0\n",
    "    char_count = {}\n",
    "\n",
    "    for window_end in range(len(s)):\n",
    "        # Update the count of the current character in the window\n",
    "        char_count[s[window_end]] = char_count.get(s[window_end], 0) + 1\n",
    "        # Update the maximum count of any character in the current window\n",
    "        max_count = max(max_count, char_count[s[window_end]])\n",
    "\n",
    "        # If the number of replacements needed exceeds k, shrink the window\n",
    "        if (window_end - window_start + 1 - max_count) > k:\n",
    "            char_count[s[window_start]] -= 1\n",
    "            window_start += 1\n",
    "\n",
    "        # Update the maximum length\n",
    "        max_length = max(max_length, window_end - window_start + 1)\n",
    "\n",
    "    return max_length\n"
   ]
  },
  {
   "cell_type": "code",
   "execution_count": null,
   "metadata": {},
   "outputs": [],
   "source": []
  }
 ],
 "metadata": {
  "kernelspec": {
   "display_name": "Python 3",
   "language": "python",
   "name": "python3"
  },
  "language_info": {
   "codemirror_mode": {
    "name": "ipython",
    "version": 3
   },
   "file_extension": ".py",
   "mimetype": "text/x-python",
   "name": "python",
   "nbconvert_exporter": "python",
   "pygments_lexer": "ipython3",
   "version": "3.10.10"
  }
 },
 "nbformat": 4,
 "nbformat_minor": 2
}
