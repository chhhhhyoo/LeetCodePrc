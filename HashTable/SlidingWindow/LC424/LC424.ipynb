{
 "cells": [
  {
   "cell_type": "code",
   "execution_count": null,
   "metadata": {},
   "outputs": [],
   "source": [
    "def characterReplacement(s, k):\n",
    "    \"\"\"\n",
    "    :type s: str\n",
    "    :type k: int\n",
    "    :rtype: int\n",
    "    \"\"\"\n",
    "    if len(s) <= k :\n",
    "        return len(s)\n",
    "\n",
    "    first_window = s[:k+1]\n",
    "    main_chr = max(set(first_window), key=first_window.count)\n",
    "    main_cnt = first_window.count(main_chr)\n",
    "    leisure_cnt = k - (len(first_window) - main_cnt)\n",
    "    end_idx = k + 1 +leisure_cnt\n",
    "    res = s[:end_idx] # new window\n",
    "    new_main_chr = max(set(res), key=res.count)\n",
    "    max_arr_len = len(res)\n",
    "\n",
    "    skip = 0\n",
    "\n",
    "    for i in range(len(s) - end_idx) :\n",
    "        if skip == 0:\n",
    "            new_main_chr = max(set(res), key=res.count)\n",
    "            temp_res = res + s[i+end_idx]\n",
    "            if s[i+end_idx] == new_main_chr or  temp_res.count(s[i +end_idx]) >= temp_res.count(new_main_chr):\n",
    "                res += s[i+end_idx]\n",
    "                # max_arr_len += 1\n",
    "            else :\n",
    "                res = res[1:] + s[i+end_idx]\n",
    "                new_main_chr = max(set(res), key=res.count)\n",
    "                main_cnt = res.count(new_main_chr)\n",
    "                leisure_cnt = k - (len(res) - main_cnt)\n",
    "                while leisure_cnt < 0 :\n",
    "                    res = res[abs(leisure_cnt):]\n",
    "                    new_main_chr = max(set(res), key=res.count)\n",
    "                    main_cnt = res.count(new_main_chr)\n",
    "                    leisure_cnt = k - (len(res) - main_cnt)\n",
    "                if leisure_cnt > 0 :\n",
    "                    skip = leisure_cnt\n",
    "            \n",
    "            new_res_len = len(res)\n",
    "            if new_res_len > max_arr_len :\n",
    "                max_arr_len = new_res_len        \n",
    "\n",
    "        else :\n",
    "            skip -= 1        \n",
    "        \n",
    "    return max_arr_len\n",
    "\n",
    "\n",
    "\n"
   ]
  },
  {
   "cell_type": "code",
   "execution_count": 8,
   "metadata": {},
   "outputs": [
    {
     "name": "stdout",
     "output_type": "stream",
     "text": [
      "The count of  E  is  4\n"
     ]
    }
   ],
   "source": [
    "# Initialize a string\n",
    "s = \"GEEKSFORGEEKS\"\n",
    "\n",
    "# Using a list to store the count of each alphabet\n",
    "# by mapping the character to an index value\n",
    "arr = [0] * 26\n",
    "\n",
    "# Storing the count\n",
    "for i in range(len(s)):\n",
    "    arr[ord(s[i]) - ord('A')] += 1\n",
    "\n",
    "# Search the count of the character\n",
    "ch = 'E'\n",
    "\n",
    "# Get count\n",
    "print(\"The count of \", ch, \" is \", arr[ord(ch) - ord('A')])"
   ]
  },
  {
   "cell_type": "code",
   "execution_count": 264,
   "metadata": {},
   "outputs": [],
   "source": [
    "def characterReplacement(s, k):\n",
    "    \"\"\"\n",
    "    :type s: str\n",
    "    :type k: int\n",
    "    :rtype: int\n",
    "    \"\"\"\n",
    "    if len(s) <= k :\n",
    "        return len(s)\n",
    "\n",
    "    first_window = s[:k+1]\n",
    "    print(first_window)\n",
    "    main_chr = max(set(first_window), key=first_window.count)\n",
    "    main_cnt = first_window.count(main_chr)\n",
    "    leisure_cnt = k - (len(first_window) - main_cnt)\n",
    "    print('lei', leisure_cnt)\n",
    "    end_idx = k + 1 +leisure_cnt\n",
    "    res = s[:end_idx] # new window\n",
    "    new_main_chr = max(set(res), key=res.count)\n",
    "    max_arr_len = len(res)\n",
    "\n",
    "    skip = 0\n",
    "\n",
    "    for i in range(len(s) - end_idx) :\n",
    "        print()\n",
    "        print('loop : ', i)\n",
    "        print('rrrrrres :', res)\n",
    "        if skip == 0:\n",
    "            new_main_chr = max(set(res), key=res.count)\n",
    "            temp_res = res + s[i+end_idx]\n",
    "            print('loop ', i,' : ', s[i + end_idx] == new_main_chr, temp_res.count(s[i + end_idx]) >= temp_res.count(new_main_chr))\n",
    "            print('loop ', i,' : ', s[i + end_idx] , new_main_chr, ': ', temp_res.count(s[i + end_idx]) ,'>=', temp_res.count(new_main_chr))\n",
    "            if s[i+end_idx] == new_main_chr or  temp_res.count(s[i +end_idx]) >= temp_res.count(new_main_chr) and k != 0 and len(temp_res) - temp_res.count(new_main_chr) <= k:\n",
    "                print('??')\n",
    "                res += s[i+end_idx]\n",
    "                # max_arr_len += 1\n",
    "            else :\n",
    "                print('else',res)\n",
    "                res = res[1:] + s[i+end_idx]\n",
    "                print('withnext ', res)\n",
    "                new_main_chr = max(set(res), key=res.count)\n",
    "                main_cnt = res.count(new_main_chr)\n",
    "                print(len(res), ' ', main_cnt)\n",
    "                leisure_cnt = k - (len(res) - main_cnt)\n",
    "                print('lei', leisure_cnt)\n",
    "                while leisure_cnt < 0 :\n",
    "                    print('while')\n",
    "                    res = res[abs(leisure_cnt):]\n",
    "                    new_main_chr = max(set(res), key=res.count)\n",
    "                    main_cnt = res.count(new_main_chr)\n",
    "                    leisure_cnt = k - (len(res) - main_cnt)\n",
    "                if leisure_cnt > 0 :\n",
    "                    # print('skipped')\n",
    "                    skip = leisure_cnt\n",
    "                print('else done', res)\n",
    "            \n",
    "            new_res_len = len(res)\n",
    "            print('new res is', res)\n",
    "            print('new_res cnt ', new_res_len)\n",
    "            # print('max_arr_len cnt ', max_arr_len)\n",
    "            if new_res_len > max_arr_len :\n",
    "                print(max_arr_len)\n",
    "                print(new_res_len)\n",
    "                max_arr_len = new_res_len        \n",
    "            print('now leng', max_arr_len)\n",
    "\n",
    "        else :\n",
    "            skip -= 1        \n",
    "        \n",
    "    return max_arr_len\n",
    "\n",
    "\n",
    "\n"
   ]
  },
  {
   "cell_type": "code",
   "execution_count": 265,
   "metadata": {},
   "outputs": [
    {
     "name": "stdout",
     "output_type": "stream",
     "text": [
      "A\n",
      "lei 0\n",
      "\n",
      "loop :  0\n",
      "rrrrrres : A\n",
      "loop  0  :  False True\n",
      "loop  0  :  B A :  1 >= 1\n",
      "else A\n",
      "withnext  B\n",
      "1   1\n",
      "lei 0\n",
      "else done B\n",
      "new res is B\n",
      "new_res cnt  1\n",
      "now leng 1\n",
      "\n",
      "loop :  1\n",
      "rrrrrres : B\n",
      "loop  1  :  False True\n",
      "loop  1  :  A B :  1 >= 1\n",
      "else B\n",
      "withnext  A\n",
      "1   1\n",
      "lei 0\n",
      "else done A\n",
      "new res is A\n",
      "new_res cnt  1\n",
      "now leng 1\n",
      "\n",
      "loop :  2\n",
      "rrrrrres : A\n",
      "loop  2  :  True True\n",
      "loop  2  :  A A :  2 >= 2\n",
      "??\n",
      "new res is AA\n",
      "new_res cnt  2\n",
      "1\n",
      "2\n",
      "now leng 2\n"
     ]
    },
    {
     "data": {
      "text/plain": [
       "2"
      ]
     },
     "execution_count": 265,
     "metadata": {},
     "output_type": "execute_result"
    }
   ],
   "source": [
    "s = \"ABAA\"\n",
    "k = 0\n",
    "characterReplacement(s,k)"
   ]
  },
  {
   "cell_type": "code",
   "execution_count": 258,
   "metadata": {},
   "outputs": [
    {
     "name": "stdout",
     "output_type": "stream",
     "text": [
      "ABA\n",
      "lei 1\n",
      "\n",
      "loop :  0\n",
      "rrrrrres : ABAB\n",
      "loop  0  :  False True\n",
      "loop  0  :  A B :  3 >= 2\n",
      "??\n",
      "new res is ABABA\n",
      "new_res cnt  5\n",
      "4\n",
      "5\n",
      "now leng 5\n",
      "\n",
      "loop :  1\n",
      "rrrrrres : ABABA\n",
      "loop  1  :  True True\n",
      "loop  1  :  A A :  4 >= 4\n",
      "??\n",
      "new res is ABABAA\n",
      "new_res cnt  6\n",
      "5\n",
      "6\n",
      "now leng 6\n"
     ]
    },
    {
     "data": {
      "text/plain": [
       "6"
      ]
     },
     "execution_count": 258,
     "metadata": {},
     "output_type": "execute_result"
    }
   ],
   "source": [
    "s = \"ABABAA\" \n",
    "k = 2\n",
    "characterReplacement(s,k)"
   ]
  },
  {
   "cell_type": "code",
   "execution_count": 259,
   "metadata": {},
   "outputs": [
    {
     "name": "stdout",
     "output_type": "stream",
     "text": [
      "ABA\n",
      "lei 1\n"
     ]
    },
    {
     "data": {
      "text/plain": [
       "4"
      ]
     },
     "execution_count": 259,
     "metadata": {},
     "output_type": "execute_result"
    }
   ],
   "source": [
    "s = \"ABAB\"\n",
    "k = 2\n",
    "characterReplacement(s,k)"
   ]
  },
  {
   "cell_type": "code",
   "execution_count": null,
   "metadata": {},
   "outputs": [],
   "source": []
  },
  {
   "cell_type": "code",
   "execution_count": 260,
   "metadata": {},
   "outputs": [
    {
     "name": "stdout",
     "output_type": "stream",
     "text": [
      "AA\n",
      "lei 1\n",
      "\n",
      "loop :  0\n",
      "rrrrrres : AAB\n",
      "loop  0  :  True True\n",
      "loop  0  :  A A :  3 >= 3\n",
      "??\n",
      "new res is AABA\n",
      "new_res cnt  4\n",
      "3\n",
      "4\n",
      "now leng 4\n",
      "\n",
      "loop :  1\n",
      "rrrrrres : AABA\n",
      "loop  1  :  False False\n",
      "loop  1  :  B A :  2 >= 3\n",
      "else AABA\n",
      "withnext  ABAB\n",
      "4   2\n",
      "lei -1\n",
      "while\n",
      "else done BAB\n",
      "new res is BAB\n",
      "new_res cnt  3\n",
      "now leng 4\n",
      "\n",
      "loop :  2\n",
      "rrrrrres : BAB\n",
      "loop  2  :  True True\n",
      "loop  2  :  B B :  3 >= 3\n",
      "??\n",
      "new res is BABB\n",
      "new_res cnt  4\n",
      "now leng 4\n",
      "\n",
      "loop :  3\n",
      "rrrrrres : BABB\n",
      "loop  3  :  False False\n",
      "loop  3  :  A B :  2 >= 3\n",
      "else BABB\n",
      "withnext  ABBA\n",
      "4   2\n",
      "lei -1\n",
      "while\n",
      "else done BBA\n",
      "new res is BBA\n",
      "new_res cnt  3\n",
      "now leng 4\n"
     ]
    },
    {
     "data": {
      "text/plain": [
       "4"
      ]
     },
     "execution_count": 260,
     "metadata": {},
     "output_type": "execute_result"
    }
   ],
   "source": [
    "s = \"AABABBA\"\n",
    "k = 1\n",
    "characterReplacement(s,k)"
   ]
  },
  {
   "cell_type": "code",
   "execution_count": 105,
   "metadata": {},
   "outputs": [
    {
     "name": "stdout",
     "output_type": "stream",
     "text": [
      "0\n"
     ]
    },
    {
     "data": {
      "text/plain": [
       "2"
      ]
     },
     "execution_count": 105,
     "metadata": {},
     "output_type": "execute_result"
    }
   ],
   "source": [
    "s = \"ABABAA\" \n",
    "k = 2\n",
    "first_window = s[:k]\n",
    "main_chr = max(set(first_window), key=first_window.count)\n",
    "main_cnt = s.count(main_chr)\n",
    "leisure_cnt = k - (len(first_window) - main_cnt)\n",
    "\n",
    "res = s[:k+leisure_cnt] # new window\n",
    "lim = len(res)\n",
    "new_main_chr = max(set(res), key=res.count)\n",
    "max_arr_len = len(res)\n",
    "for i in range(len(s) - lim -1) :\n",
    "    print(i)\n",
    "\n",
    "len(s) - lim "
   ]
  },
  {
   "cell_type": "code",
   "execution_count": null,
   "metadata": {},
   "outputs": [],
   "source": []
  },
  {
   "cell_type": "code",
   "execution_count": null,
   "metadata": {},
   "outputs": [],
   "source": [
    "\n",
    "            #leisure_cnt 만큼 1: 로 잘라야한다.\n",
    "        # 새로 들어오는게 main 과 같으면 계속 accept\n",
    "        # 새로 들어오는게 main 과 다르면 i drop 후 accept 그리고 새로 main_chr 등록"
   ]
  }
 ],
 "metadata": {
  "kernelspec": {
   "display_name": "Python 3",
   "language": "python",
   "name": "python3"
  },
  "language_info": {
   "codemirror_mode": {
    "name": "ipython",
    "version": 3
   },
   "file_extension": ".py",
   "mimetype": "text/x-python",
   "name": "python",
   "nbconvert_exporter": "python",
   "pygments_lexer": "ipython3",
   "version": "3.10.10"
  }
 },
 "nbformat": 4,
 "nbformat_minor": 2
}
