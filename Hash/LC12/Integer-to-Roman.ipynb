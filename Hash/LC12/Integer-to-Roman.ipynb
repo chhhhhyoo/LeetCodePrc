{
 "cells": [
  {
   "cell_type": "code",
   "execution_count": 8,
   "metadata": {},
   "outputs": [
    {
     "ename": "TypeError",
     "evalue": "object of type 'int' has no len()",
     "output_type": "error",
     "traceback": [
      "\u001b[1;31m---------------------------------------------------------------------------\u001b[0m",
      "\u001b[1;31mTypeError\u001b[0m                                 Traceback (most recent call last)",
      "Cell \u001b[1;32mIn[8], line 2\u001b[0m\n\u001b[0;32m      1\u001b[0m num : \u001b[39mint\u001b[39m \u001b[39m=\u001b[39m \u001b[39m555\u001b[39m\n\u001b[1;32m----> 2\u001b[0m \u001b[39mlen\u001b[39;49m(num)\n",
      "\u001b[1;31mTypeError\u001b[0m: object of type 'int' has no len()"
     ]
    }
   ],
   "source": []
  },
  {
   "cell_type": "code",
   "execution_count": 40,
   "metadata": {},
   "outputs": [
    {
     "name": "stdout",
     "output_type": "stream",
     "text": [
      "num is  245\n",
      "num is  24\n",
      "num is  2\n",
      "num is  0\n",
      "Rom Rep is MMCDLIV\n"
     ]
    }
   ],
   "source": [
    "class Solution:\n",
    "    def intToRoman(num: int) -> str:\n",
    "        int_rom = {\n",
    "            1: 'I',\n",
    "            5: 'V',\n",
    "            10: 'X',\n",
    "            50: 'L',\n",
    "            100: 'C',\n",
    "            500: 'D',\n",
    "            1000: 'M'\n",
    "        }\n",
    "\n",
    "        div = 1\n",
    "        rom_rep = ''\n",
    "\n",
    "        while num > 0 :\n",
    "            digit = num%10\n",
    "            if(digit < 4):\n",
    "                rom_rep = digit * int_rom[div] + rom_rep\n",
    "            elif(digit == 4):\n",
    "                rom_rep = int_rom[div] + int_rom[div*5] + rom_rep\n",
    "            elif(digit == 9):\n",
    "                rom_rep = int_rom[div] + int_rom[div*10] + rom_rep\n",
    "            else :\n",
    "                rom_rep = int_rom[div*5] + int_rom[div] * (digit-5) + rom_rep\n",
    "\n",
    "            div *=10\n",
    "            num = num//10\n",
    "            print('num is ', num)\n",
    "\n",
    "        return rom_rep\n",
    "\n",
    "    if __name__ == '__main__':\n",
    "        num = 2454\n",
    "\n",
    "        # Function call\n",
    "        print(\"Rom Rep is\",\n",
    "            intToRoman(num))"
   ]
  },
  {
   "cell_type": "code",
   "execution_count": null,
   "metadata": {},
   "outputs": [],
   "source": []
  }
 ],
 "metadata": {
  "kernelspec": {
   "display_name": "Python 3",
   "language": "python",
   "name": "python3"
  },
  "language_info": {
   "codemirror_mode": {
    "name": "ipython",
    "version": 3
   },
   "file_extension": ".py",
   "mimetype": "text/x-python",
   "name": "python",
   "nbconvert_exporter": "python",
   "pygments_lexer": "ipython3",
   "version": "3.10.10"
  },
  "orig_nbformat": 4
 },
 "nbformat": 4,
 "nbformat_minor": 2
}
