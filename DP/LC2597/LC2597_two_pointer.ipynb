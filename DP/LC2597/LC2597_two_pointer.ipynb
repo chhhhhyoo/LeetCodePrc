{
 "cells": [
  {
   "cell_type": "code",
   "execution_count": null,
   "metadata": {},
   "outputs": [],
   "source": [
    "def beautifulSubsets(nums, k):\n",
    "    \"\"\"\n",
    "    :type nums: List[int]\n",
    "    :type k: int\n",
    "    :rtype: int\n",
    "    \"\"\"\n",
    "    nums.sort()\n",
    "    result = []\n",
    "\n",
    "    for idx in range(len(nums) - 2) :\n",
    "        # if idx > 0 and nums[idx - 1] == nums[idx] and  : \n",
    "        i = nums[idx] # first value (smallest)\n",
    "        start = idx + 1\n",
    "        end = idx + 2\n",
    "        while start <= len(nums) - 1:\n",
    "            j = nums[start]\n",
    "            k = nums[end]\n",
    "            \n",
    "\n",
    "        \n",
    "        \n",
    "\n",
    "\n",
    "\n",
    "\n",
    "\n",
    "\n"
   ]
  },
  {
   "cell_type": "code",
   "execution_count": 8,
   "metadata": {},
   "outputs": [
    {
     "data": {
      "text/plain": [
       "[2, 4, 5, 6, 6, 7, 7, 9, 35, 43, 347, 347]"
      ]
     },
     "execution_count": 8,
     "metadata": {},
     "output_type": "execute_result"
    }
   ],
   "source": [
    "nums = [2,4,6,35,6,7,43,7,347,347,5,9]\n",
    "nums.sort()\n",
    "nums"
   ]
  },
  {
   "cell_type": "code",
   "execution_count": null,
   "metadata": {},
   "outputs": [],
   "source": []
  }
 ],
 "metadata": {
  "kernelspec": {
   "display_name": "Python 3",
   "language": "python",
   "name": "python3"
  },
  "language_info": {
   "codemirror_mode": {
    "name": "ipython",
    "version": 3
   },
   "file_extension": ".py",
   "mimetype": "text/x-python",
   "name": "python",
   "nbconvert_exporter": "python",
   "pygments_lexer": "ipython3",
   "version": "3.10.10"
  }
 },
 "nbformat": 4,
 "nbformat_minor": 2
}
