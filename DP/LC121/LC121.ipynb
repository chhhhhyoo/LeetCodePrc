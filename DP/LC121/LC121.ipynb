{
 "cells": [
  {
   "cell_type": "code",
   "execution_count": null,
   "metadata": {},
   "outputs": [],
   "source": [
    "def maxProfit(self, prices):\n",
    "    if not prices:\n",
    "        return 0\n",
    "    \n",
    "    n = len(prices)\n",
    "    min_price = prices[0]\n",
    "    max_profit = 0\n",
    "    \n",
    "    for i in range(1, n):\n",
    "        min_price = min(min_price, prices[i])\n",
    "        max_profit = max(max_profit, prices[i] - min_price)\n",
    "    \n",
    "    return max_profit"
   ]
  },
  {
   "cell_type": "code",
   "execution_count": 7,
   "metadata": {},
   "outputs": [],
   "source": [
    "import math\n",
    "\n",
    "class Solution(object):\n",
    "    def maxProfit(self, prices):\n",
    "        \"\"\"\n",
    "        :type prices: List[int]\n",
    "        :rtype: int\n",
    "        \"\"\"\n",
    "        mini = min(prices)\n",
    "        min_idx = prices.index(mini)\n",
    "\n",
    "        maxi = max(prices)\n",
    "        max_idx = prices.index(maxi)\n",
    "        while max_idx < min_idx :\n",
    "            prices.pop(max_idx)\n",
    "            maxi = max(prices)\n",
    "            max_idx = prices.index(maxi)\n",
    "            min_idx = prices.index(min(prices))\n",
    "            if(len(prices) == 1) :\n",
    "                maxi = mini\n",
    "                break\n",
    "        profit = maxi - mini\n",
    "        return profit"
   ]
  },
  {
   "cell_type": "code",
   "execution_count": 51,
   "metadata": {},
   "outputs": [
    {
     "data": {
      "text/plain": [
       "0"
      ]
     },
     "execution_count": 51,
     "metadata": {},
     "output_type": "execute_result"
    }
   ],
   "source": [
    "prices = [1,2]\n",
    "prices = [7,6,4,3,1,4]\n",
    "prices = [7,6,4,3,1]\n",
    "maxProfit(prices)"
   ]
  },
  {
   "cell_type": "code",
   "execution_count": 54,
   "metadata": {},
   "outputs": [],
   "source": [
    "def maxProfit(prices):\n",
    "    \"\"\"\n",
    "    :type prices: List[int]\n",
    "    :rtype: int\n",
    "    \"\"\"\n",
    "    profit = 0\n",
    "    mini = min(prices)\n",
    "    min_idx = prices.index(mini)\n",
    "    new_prices = prices[prices.index(mini) + 1 : ]\n",
    "    maxi = max(new_prices)\n",
    "    print(\"mini \", mini, \" maxi \", maxi)\n",
    "    print(\"i < maxi\" , mini < maxi)\n",
    "    print(\"profit < (maxi - i)\" , profit < (maxi - mini))\n",
    "    if mini < maxi and profit < (maxi - mini):\n",
    "        print(\"hi\")\n",
    "        profit = maxi - mini\n",
    "    print(profit)\n",
    "    return profit"
   ]
  },
  {
   "cell_type": "code",
   "execution_count": 83,
   "metadata": {},
   "outputs": [],
   "source": [
    "def maxProfit(prices):\n",
    "    \"\"\"\n",
    "    :type prices: List[int]\n",
    "    :rtype: int\n",
    "    \"\"\"\n",
    "    def dp(prices) :\n",
    "        print('start : ', prices)\n",
    "        profit = 0\n",
    "        if(type(prices) == int) :\n",
    "            return profit\n",
    "        mini = min(prices)\n",
    "        min_idx = prices.index(mini)\n",
    "        new_prices = prices[prices.index(mini) + 1 : ]\n",
    "        if len(new_prices) > 0 :\n",
    "            maxi = max(new_prices)\n",
    "            print(maxi)\n",
    "            if mini < maxi and profit < (maxi - mini):\n",
    "                profit = maxi - mini\n",
    "                print(profit)\n",
    "                return profit\n",
    "        prices.pop(min_idx)\n",
    "        dp(prices)\n",
    "        return profit\n",
    "    return dp(prices)"
   ]
  },
  {
   "cell_type": "code",
   "execution_count": 27,
   "metadata": {},
   "outputs": [],
   "source": [
    "# temp 1\n",
    "def maxProfit(prices):\n",
    "    \"\"\"\n",
    "    :type prices: List[int]\n",
    "    :rtype: int\n",
    "    \"\"\"\n",
    "    def dp(prices) :\n",
    "        print(prices)\n",
    "        profit = 0\n",
    "        if not prices :\n",
    "            return 0\n",
    "        mini = min(prices)\n",
    "        min_idx = prices.index(mini)\n",
    "        new_prices = prices[prices.index(mini) + 1 : ]\n",
    "\n",
    "        if len(new_prices) == 0 :\n",
    "            prices.pop(min_idx)\n",
    "            return dp(prices)\n",
    "\n",
    "        maxi = max(new_prices)\n",
    "        if mini < maxi and profit < (maxi - mini):\n",
    "            profit = maxi - mini\n",
    "            return profit\n",
    "        return profit\n",
    "    return dp(prices)\n"
   ]
  },
  {
   "cell_type": "code",
   "execution_count": 28,
   "metadata": {},
   "outputs": [
    {
     "name": "stdout",
     "output_type": "stream",
     "text": [
      "[7, 6, 4, 3, 1]\n",
      "[7, 6, 4, 3]\n",
      "[7, 6, 4]\n",
      "[7, 6]\n",
      "[7]\n",
      "[]\n"
     ]
    },
    {
     "data": {
      "text/plain": [
       "0"
      ]
     },
     "execution_count": 28,
     "metadata": {},
     "output_type": "execute_result"
    }
   ],
   "source": [
    "prices = [7,6,4,3,1]\n",
    "\n",
    "maxProfit(prices)"
   ]
  },
  {
   "cell_type": "code",
   "execution_count": 13,
   "metadata": {},
   "outputs": [
    {
     "name": "stdout",
     "output_type": "stream",
     "text": [
      "4\n",
      "[6, 4, 3, 1, 4]\n",
      "3\n"
     ]
    }
   ],
   "source": [
    "prices = [7,6,4,3,1,4]\n",
    "prices = [7,6,4,3,1]\n",
    "\n",
    "mini = min(prices)\n",
    "min_idx = prices.index(mini)\n",
    "maxi = max(prices)\n",
    "max_idx = prices.index(maxi)\n",
    "print(min_idx)\n",
    "prices.pop(max_idx)\n",
    "print(prices)\n",
    "mini = min(prices)\n",
    "min_idx = prices.index(mini)\n",
    "print(min_idx)\n",
    "\n"
   ]
  },
  {
   "cell_type": "code",
   "execution_count": 63,
   "metadata": {},
   "outputs": [],
   "source": [
    "prices = [7,1,5,3,6,4]\n",
    "maxProfit(prices)"
   ]
  },
  {
   "cell_type": "code",
   "execution_count": 4,
   "metadata": {},
   "outputs": [
    {
     "name": "stdout",
     "output_type": "stream",
     "text": [
      "4\n",
      "[6, 4, 3, 1, 4]\n",
      "3\n"
     ]
    }
   ],
   "source": [
    "prices = [7,6,4,3,1,4]\n",
    "mini = min(prices)\n",
    "min_idx = prices.index(mini)\n",
    "maxi = max(prices)\n",
    "max_idx = prices.index(maxi)\n",
    "print(min_idx)\n",
    "prices.pop(max_idx)\n",
    "print(prices)\n",
    "mini = min(prices)\n",
    "min_idx = prices.index(mini)\n",
    "print(min_idx)\n",
    "\n"
   ]
  },
  {
   "cell_type": "code",
   "execution_count": null,
   "metadata": {},
   "outputs": [],
   "source": [
    "def maxProfit(prices):\n",
    "    \"\"\"\n",
    "    :type prices: List[int]\n",
    "    :rtype: int\n",
    "    \"\"\"\n",
    "    print(prices)\n",
    "    mini = min(prices)\n",
    "    min_idx = prices.index(mini)\n",
    "\n",
    "    maxi = max(prices)\n",
    "    max_idx = prices.index(maxi)\n",
    "\n",
    "    if min_idx > max_idx :\n",
    "        prices.pop(min_idx)\n",
    "        maxProfit(prices)\n",
    "\n",
    "    if len(prices) == 1 :\n",
    "        return 0\n",
    "    \n",
    "    profit = mini = max(prices) - min(prices)\n",
    "    return profit"
   ]
  },
  {
   "cell_type": "code",
   "execution_count": 2,
   "metadata": {},
   "outputs": [
    {
     "data": {
      "text/plain": [
       "False"
      ]
     },
     "execution_count": 2,
     "metadata": {},
     "output_type": "execute_result"
    }
   ],
   "source": [
    "prices = [7,6,4,3,1]\n",
    "prices == prices.sort()\n"
   ]
  },
  {
   "cell_type": "markdown",
   "metadata": {},
   "source": [
    "Q\n",
    "\n",
    "- checking opposite sorting"
   ]
  },
  {
   "cell_type": "markdown",
   "metadata": {},
   "source": []
  },
  {
   "cell_type": "code",
   "execution_count": null,
   "metadata": {},
   "outputs": [
    {
     "name": "stdout",
     "output_type": "stream",
     "text": [
      "4\n",
      "[6, 4, 3, 1, 4]\n",
      "3\n"
     ]
    }
   ],
   "source": [
    "class Solution(object):\n",
    "    def maxProfit(self, prices):\n",
    "        \"\"\"\n",
    "        :type prices: List[int]\n",
    "        :rtype: int\n",
    "        \"\"\"\n",
    "        profit = 0\n",
    "        mini = min(prices)\n",
    "        min_idx = prices.index(mini)\n",
    "        new_prices = prices[prices.index(mini) + 1 : ]\n",
    "        if len(new_prices) == 0 :\n",
    "            Solution.maxProfit(prices.pop(min_idx))\n",
    "        maxi = max(new_prices)\n",
    "        if mini < maxi and profit < (maxi - mini):\n",
    "            profit = maxi - mini\n",
    "            return profit\n",
    "        maxProfit(prices.pop(min_idx))\n",
    "        return profit"
   ]
  }
 ],
 "metadata": {
  "kernelspec": {
   "display_name": "Python 3",
   "language": "python",
   "name": "python3"
  },
  "language_info": {
   "codemirror_mode": {
    "name": "ipython",
    "version": 3
   },
   "file_extension": ".py",
   "mimetype": "text/x-python",
   "name": "python",
   "nbconvert_exporter": "python",
   "pygments_lexer": "ipython3",
   "version": "3.10.10"
  }
 },
 "nbformat": 4,
 "nbformat_minor": 2
}
