{
 "cells": [
  {
   "cell_type": "code",
   "execution_count": null,
   "metadata": {},
   "outputs": [],
   "source": [
    "class Solution(object):\n",
    "    def nextPermutation(self, nums):\n",
    "        \"\"\"\n",
    "        :type nums: List[int]\n",
    "        :rtype: None Do not return anything, modify nums in-place instead.\n",
    "        \"\"\"\n",
    "        end_idx = len(nums)\n",
    "        change = 0\n",
    "\n",
    "\n",
    "        if nums[end_idx - 1] > nums[end_idx] :\n",
    "            while nums[end_idx - 1] < nums[end_idx] or end_idx == 0 :\n",
    "                end_idx -= 1\n",
    "            end_min = min(nums[end_idx:])\n",
    "            new_end = nums[end_idx - 1:]\n",
    "            # get rid of min\n",
    "            new_end.remove(end_min)\n",
    "            new_end.sort()\n",
    "            nums = nums[:end_idx] + end_min + new_end\n",
    "\n",
    "        elif nums[end_idx - 1] < nums[end_idx] :\n",
    "            end_idx -= 1\n",
    "            if end_idx == 0 :\n",
    "                \n",
    "\n",
    "\n",
    "\n",
    "\n",
    "        return None"
   ]
  }
 ],
 "metadata": {
  "language_info": {
   "name": "python"
  }
 },
 "nbformat": 4,
 "nbformat_minor": 2
}
