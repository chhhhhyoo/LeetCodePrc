{
 "cells": [
  {
   "cell_type": "code",
   "execution_count": 13,
   "metadata": {},
   "outputs": [
    {
     "name": "stdout",
     "output_type": "stream",
     "text": [
      "['a', 'c']\n"
     ]
    }
   ],
   "source": [
    "strs = [\"ca\",\"bb\",\"ac\"]\n",
    "print(sorted(strs[0]))"
   ]
  },
  {
   "cell_type": "code",
   "execution_count": 16,
   "metadata": {},
   "outputs": [
    {
     "name": "stdout",
     "output_type": "stream",
     "text": [
      "['c', 'b', 'ac']\n"
     ]
    }
   ],
   "source": [
    "for i in range(len(strs)-1) :\n",
    "    while strs[i] >= strs[i+1] :\n",
    "        for j in range(len(strs[0])-1) :\n",
    "            if strs[i][j] >= strs[i+1][j] :\n",
    "                print(strs[i][j])\n",
    "                # i 는 마지막을 빼고\n",
    "                strs[i] = strs[i][:-1]\n",
    "                # i+1 는 해당을 빼고\n",
    "                strs[i+1] = strs[i+1][:j] + strs[i+1][j + 1:]\n",
    "        break\n",
    "print(strs)"
   ]
  },
  {
   "cell_type": "code",
   "execution_count": null,
   "metadata": {},
   "outputs": [],
   "source": []
  }
 ],
 "metadata": {
  "kernelspec": {
   "display_name": "Python 3",
   "language": "python",
   "name": "python3"
  },
  "language_info": {
   "codemirror_mode": {
    "name": "ipython",
    "version": 3
   },
   "file_extension": ".py",
   "mimetype": "text/x-python",
   "name": "python",
   "nbconvert_exporter": "python",
   "pygments_lexer": "ipython3",
   "version": "3.10.10"
  }
 },
 "nbformat": 4,
 "nbformat_minor": 2
}
