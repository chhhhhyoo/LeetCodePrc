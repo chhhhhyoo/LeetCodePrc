{
 "cells": [
  {
   "cell_type": "markdown",
   "metadata": {},
   "source": [
    "we have a condition\n",
    "\n",
    "You must write an algorithm that runs in O(log n) time.\n",
    "\n",
    "=> Binary search\n",
    "\n",
    "Search for what? Minimum Value (=min val will be with the pivot)\n",
    "\n",
    "So? FIND THE PIVOT w/ Binary Search\n",
    "\n",
    "How? use the fact it was sorted before rotation.\n",
    "\n",
    "Now let's start\n",
    "\n"
   ]
  },
  {
   "cell_type": "code",
   "execution_count": 3,
   "metadata": {},
   "outputs": [],
   "source": [
    "def findMin(nums):\n",
    "    \"\"\"\n",
    "    :type nums: List[int]\n",
    "    :rtype: int\n",
    "    \"\"\"\n",
    "    left = 0\n",
    "    right = len(nums) - 1\n",
    "    mid = (left + right) // 2\n",
    "\n",
    "    while left < right :\n",
    "\n",
    "        mid = (left + right) // 2\n",
    "\n",
    "        if nums[mid] < nums[right] :\n",
    "            right = mid\n",
    "        \n",
    "        else :\n",
    "\n",
    "            left = mid + 1 # +1 because we know there is at least one value that is smaller than the mid number\n",
    "    \n",
    "    return nums[left] # both left and right will converge to one number which will be the minimum value\n"
   ]
  },
  {
   "cell_type": "code",
   "execution_count": 5,
   "metadata": {},
   "outputs": [
    {
     "name": "stdout",
     "output_type": "stream",
     "text": [
      "Result for nums1: True\n",
      "Result for nums2: True\n",
      "Result for nums3: True\n"
     ]
    }
   ],
   "source": [
    "def check_min(nums):\n",
    "    # Get the minimum using your findMin function\n",
    "    min_found = findMin(nums)\n",
    "    \n",
    "    # Check if the minimum found matches the actual minimum\n",
    "    actual_min = min(nums)\n",
    "    \n",
    "    return min_found == actual_min\n",
    "\n",
    "# Test cases\n",
    "nums1 = [3, 4, 5, 1, 2]\n",
    "nums2 = [4, 5, 6, 7, 0, 1, 2]\n",
    "nums3 = [11,13,15,17]\n",
    "\n",
    "result1 = check_min(nums1)\n",
    "result2 = check_min(nums2)\n",
    "result3 = check_min(nums3)\n",
    "\n",
    "print(f\"Result for nums1: {result1}\")\n",
    "print(f\"Result for nums2: {result2}\")\n",
    "print(f\"Result for nums3: {result3}\")"
   ]
  },
  {
   "cell_type": "markdown",
   "metadata": {},
   "source": [
    "Time: 16 ms (93.84%), Space: 12 MB (84.76%) "
   ]
  },
  {
   "cell_type": "markdown",
   "metadata": {},
   "source": []
  }
 ],
 "metadata": {
  "kernelspec": {
   "display_name": "Python 3",
   "language": "python",
   "name": "python3"
  },
  "language_info": {
   "codemirror_mode": {
    "name": "ipython",
    "version": 3
   },
   "file_extension": ".py",
   "mimetype": "text/x-python",
   "name": "python",
   "nbconvert_exporter": "python",
   "pygments_lexer": "ipython3",
   "version": "3.10.10"
  }
 },
 "nbformat": 4,
 "nbformat_minor": 2
}
