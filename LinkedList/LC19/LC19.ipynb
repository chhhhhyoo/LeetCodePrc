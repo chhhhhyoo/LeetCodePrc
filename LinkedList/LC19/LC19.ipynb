{
 "cells": [
  {
   "cell_type": "code",
   "execution_count": null,
   "metadata": {},
   "outputs": [],
   "source": [
    "# Definition for singly-linked list.\n",
    "class ListNode(object):\n",
    "    def __init__(self, val=0, next=None):\n",
    "        self.val = val\n",
    "        self.next = next\n",
    "class Solution(object):\n",
    "    def removeNthFromEnd(self, head, n):\n",
    "        \"\"\"\n",
    "        :type head: ListNode\n",
    "        :type n: int\n",
    "        :rtype: ListNode\n",
    "        \"\"\"\n",
    "        if not head:\n",
    "            return None\n",
    "\n",
    "        def getNth(current, n): # Check if this is the one to remove\n",
    "            chk = current.next\n",
    "            for _ in range(n+1):\n",
    "                if not chk:\n",
    "                    return True\n",
    "                chk = chk.next\n",
    "            return False\n",
    "\n",
    "        ans = ListNode(0) # create answer\n",
    "        ans.next = head\n",
    "        current = ans\n",
    "\n",
    "        while current.next:\n",
    "            if getNth(current, n):\n",
    "                current.next = current.next.next\n",
    "                break\n",
    "            current = current.next\n",
    "\n",
    "        return ans.next"
   ]
  },
  {
   "cell_type": "code",
   "execution_count": null,
   "metadata": {},
   "outputs": [],
   "source": []
  }
 ],
 "metadata": {
  "kernelspec": {
   "display_name": "Python 3",
   "language": "python",
   "name": "python3"
  },
  "language_info": {
   "codemirror_mode": {
    "name": "ipython",
    "version": 3
   },
   "file_extension": ".py",
   "mimetype": "text/x-python",
   "name": "python",
   "nbconvert_exporter": "python",
   "pygments_lexer": "ipython3",
   "version": "3.10.10"
  }
 },
 "nbformat": 4,
 "nbformat_minor": 2
}
