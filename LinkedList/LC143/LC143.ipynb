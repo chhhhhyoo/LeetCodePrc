{
 "cells": [
  {
   "cell_type": "code",
   "execution_count": null,
   "metadata": {},
   "outputs": [],
   "source": [
    "# Definition for singly-linked list.\n",
    "# class ListNode(object):\n",
    "#     def __init__(self, val=0, next=None):\n",
    "#         self.val = val\n",
    "#         self.next = next\n",
    "class Solution(object):\n",
    "    def reorderList(self, head):\n",
    "        \"\"\"\n",
    "        :type head: ListNode\n",
    "        :rtype: None Do not return anything, modify head in-place instead.\n",
    "        \"\"\"\n",
    "        \n",
    "        if not head : \n",
    "            return None\n",
    "        \n",
    "        # find the second half to reverse\n",
    "        first, second = head, head\n",
    "        while second.next and second.next.next :\n",
    "            first = first.next\n",
    "            second = second.next.next\n",
    "\n",
    "        # reverse the second half\n",
    "        prev, current = None, first.next # next of the first half will be the start of the second half\n",
    "        while current :\n",
    "            future = current.next # save the next\n",
    "            current.next = prev # reverse the pointer\n",
    "            prev = current # push up the prev\n",
    "            current = future # push up the current\n",
    "        first.next = None # disconnect the link between first and second half\n",
    "\n",
    "        # merge two halves\n",
    "        f_half, s_half = head, prev # visually this is each end\n",
    "        while s_half :\n",
    "            f_future = f_half.next # save first half nexts\n",
    "            f_half.next = s_half # link first to second\n",
    "            f_half = s_half # move to next (first -> second -> first)\n",
    "            s_half = f_future # move to next (second -> first -> second)\n"
   ]
  }
 ],
 "metadata": {
  "kernelspec": {
   "display_name": "Python 3",
   "language": "python",
   "name": "python3"
  },
  "language_info": {
   "codemirror_mode": {
    "name": "ipython",
    "version": 3
   },
   "file_extension": ".py",
   "mimetype": "text/x-python",
   "name": "python",
   "nbconvert_exporter": "python",
   "pygments_lexer": "ipython3",
   "version": "3.10.10"
  }
 },
 "nbformat": 4,
 "nbformat_minor": 2
}
